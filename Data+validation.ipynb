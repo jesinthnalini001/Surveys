{
 "cells": [
  {
   "cell_type": "code",
   "execution_count": 1,
   "metadata": {
    "collapsed": true
   },
   "outputs": [],
   "source": [
    "import datetime\n",
    "import pandas as pd\n",
    "from calendar import monthrange\n",
    "import numpy as np\n",
    "from pandas.tseries.offsets import MonthEnd\n",
    "import csv\n",
    "import warnings; warnings.filterwarnings('ignore')"
   ]
  },
  {
   "cell_type": "code",
   "execution_count": 1,
   "metadata": {
    "scrolled": false
   },
   "outputs": [
    {
     "ename": "NameError",
     "evalue": "name 'pd' is not defined",
     "output_type": "error",
     "traceback": [
      "\u001b[1;31m---------------------------------------------------------------------------\u001b[0m",
      "\u001b[1;31mNameError\u001b[0m                                 Traceback (most recent call last)",
      "\u001b[1;32m<ipython-input-1-f3bf6cb013e8>\u001b[0m in \u001b[0;36m<module>\u001b[1;34m()\u001b[0m\n\u001b[0;32m      1\u001b[0m \u001b[0mpath\u001b[0m \u001b[1;33m=\u001b[0m \u001b[1;34m'\\\\\\\\svrau055csm00\\\\OTSPC SHRSV\\\\SHARE\\\\Shared Services\\\\Group Services\\\\Group Surveys\\\\Placeholder_BGL_File_Sharing\\\\RJN\\\\Vdata\\\\'\u001b[0m\u001b[1;33m\u001b[0m\u001b[0m\n\u001b[0;32m      2\u001b[0m \u001b[1;33m\u001b[0m\u001b[0m\n\u001b[1;32m----> 3\u001b[1;33m \u001b[0mLeadFile\u001b[0m \u001b[1;33m=\u001b[0m \u001b[0mpd\u001b[0m\u001b[1;33m.\u001b[0m\u001b[0mread_csv\u001b[0m\u001b[1;33m(\u001b[0m\u001b[0mpath\u001b[0m\u001b[1;33m+\u001b[0m\u001b[1;34m'Dummy Data.csv'\u001b[0m\u001b[1;33m)\u001b[0m\u001b[1;33m\u001b[0m\u001b[0m\n\u001b[0m\u001b[0;32m      4\u001b[0m \u001b[0mInfo\u001b[0m \u001b[1;33m=\u001b[0m \u001b[0mpd\u001b[0m\u001b[1;33m.\u001b[0m\u001b[0mread_csv\u001b[0m\u001b[1;33m(\u001b[0m\u001b[0mpath\u001b[0m\u001b[1;33m+\u001b[0m\u001b[1;34m'Info.csv'\u001b[0m\u001b[1;33m)\u001b[0m\u001b[1;33m\u001b[0m\u001b[0m\n\u001b[0;32m      5\u001b[0m \u001b[1;33m\u001b[0m\u001b[0m\n",
      "\u001b[1;31mNameError\u001b[0m: name 'pd' is not defined"
     ]
    }
   ],
   "source": [
    "path = '\\\\\\\\svrau055csm00\\\\OTSPC SHRSV\\\\SHARE\\\\Shared Services\\\\Group Services\\\\Group Surveys\\\\Placeholder_BGL_File_Sharing\\\\RJN\\\\Vdata\\\\'\n",
    "\n",
    "LeadFile = pd.read_csv(path+'Dummy Data.csv')\n",
    "Info = pd.read_csv(path+'Info.csv')\n",
    "\n",
    "SingleQ = list(Info['Qns'][(Info['Type'] == \"Single\")])\n",
    "NumericQ = list(Info['Qns'][(Info['Type'] == \"Numeric\")])\n",
    "OpenQ = list(Info['Qns'][(Info['Type'] == \"Open\")])\n",
    "\n",
    "MultidfInf = Info[(Info['Type'] == \"Multi\")]\n",
    "MultiQ = list(set(MultidfInf['QID']))\n",
    "MultiQns = list(set(MultidfInf['Qns']))\n",
    "\n",
    "GrddfInf = Info[(Info['Type'] == \"Grid\")]\n",
    "GrdQ = list(set(GrddfInf['QID']))\n",
    "\n",
    "def basecheck(Qtype):\n",
    "    InfDum = Info.loc[(Info['Base Condition'].notnull()) & (Info['Type'] == Qtype)]\n",
    "    if len(InfDum) > 0:\n",
    "        new = InfDum['Base Condition'].str.split(\"=\", n = 1, expand = True)\n",
    "        InfDum[\"QIDdum\"]= new[0].str.strip()\n",
    "        InfDum[\"Conddum\"]= new[1].str.strip()\n",
    "        InfDum.drop_duplicates(subset =\"QID\", inplace = True)                \n",
    "        BSC = list(LeadFile['RespID'][(LeadFile[InfDum['QIDdum'].item()] \\\n",
    "                                       == int(InfDum['Conddum'].item())) & (~LeadFile[Q].notnull())])\n",
    "        Info.loc[Info['QID'] == Q, 'Base check'] = str(BSC)  \n",
    "\n",
    "# Code for checking blanks in single Question\n",
    "for Q in SingleQ:\n",
    "    BC = list(LeadFile['RespID'][~LeadFile[Q].notnull()])\n",
    "    Info.loc[Info['Qns'] == Q, 'Blank ids'] = str(BC)\n",
    "\n",
    "for Q in MultiQns:\n",
    "    MultidfInfDum = MultidfInf.loc[MultidfInf['Base Condition'].notnull()]\n",
    "    if len(MultidfInfDum) > 0:\n",
    "        new = MultidfInfDum['Masking'].str.split(\"=\", n = 1, expand = True)\n",
    "        MultidfInfDum[\"QIDdum\"]= new[0].str.strip()\n",
    "        MultidfInfDum[\"Conddum\"]= new[1].str.strip()\n",
    "        \n",
    "# Code for checking blanks and range in Numeric Question\n",
    "for Q in NumericQ:\n",
    "    BC = list(LeadFile['RespID'][~LeadFile[Q].notnull()])\n",
    "    Info.loc[Info['Qns'] == Q, 'Blank ids'] = str(BC)\n",
    "    RC = list(LeadFile['RespID'][~LeadFile[Q].between(int(Info['Min'][Info['Qns'] == Q]),\\\n",
    "                                                      int(Info['Max'][Info['Qns'] == Q]))])\n",
    "    Info.loc[Info['Qns'] == Q, 'Range Check'] = str(RC)\n",
    "    basecheck(\"Numeric\")\n",
    "    \n",
    "# Code for checking blanks and length in Open Question\n",
    "for Q in OpenQ:\n",
    "    BC = list(LeadFile['RespID'][~LeadFile[Q].notnull()])\n",
    "    Info.loc[Info['Qns'] == Q, 'Blank ids'] = str(BC)\n",
    "    LC = list(LeadFile['RespID'][~LeadFile[Q].str.len().between(int(Info['Min'][Info['Qns'] == Q]),\\\n",
    "                                                                int(Info['Max'][Info['Qns'] == Q]))])\n",
    "    Info.loc[Info['Qns'] == Q, 'Range Check'] = str(LC)\n",
    "    basecheck(\"Open\")\n",
    "\n",
    "# Code for checking blanks in Multi Question\n",
    "for Q in MultiQ:    \n",
    "    tempQ = list(MultidfInf['Qns'][MultidfInf['QID'] == Q])\n",
    "    Qarr = list(tempQ)\n",
    "        \n",
    "    LeadFile[Q] = LeadFile[Qarr].sum(axis=1).round() \n",
    "    BC = list(LeadFile['RespID'][LeadFile[Q] == 0])\n",
    "    Info.loc[Info['QID'] == Q, 'Blank ids'] = str(BC)\n",
    "    \n",
    "    MultidfInfDum = MultidfInf.loc[MultidfInf['Base Condition'].notnull()]\n",
    "    if len(MultidfInfDum) > 0:\n",
    "        new = MultidfInfDum['Base Condition'].str.split(\"=\", n = 1, expand = True)\n",
    "        MultidfInfDum[\"QIDdum\"]= new[0].str.strip()\n",
    "        MultidfInfDum[\"Conddum\"]= new[1].str.strip()\n",
    "        MultidfInfDum.drop_duplicates(subset =\"QID\", inplace = True)        \n",
    "        BSC = list(LeadFile['RespID'][(LeadFile[MultidfInfDum['QIDdum'][MultidfInfDum['QID'] == Q].item()] \\\n",
    "                                       == int(MultidfInfDum['Conddum'][MultidfInfDum['QID'] == Q].item())) & (LeadFile[Q] == 0)])\n",
    "        Info.loc[Info['QID'] == Q, 'Base check'] = str(BSC)    \n",
    "\n",
    "    LeadFile[Q] = LeadFile[Qarr].count(axis=1) \n",
    "    BC = list(LeadFile['RespID'][(LeadFile[Q] != len(Qarr)) & (LeadFile[Q] > 0)])\n",
    "    Info.loc[Info['QID'] == Q, 'Missing options'] = str(BC)\n",
    "\n",
    "# Code for checking blanks in Grid Question\n",
    "for Q in GrdQ:    \n",
    "    tempQ = list(GrddfInf['Qns'][GrddfInf['QID'] == Q])\n",
    "    Qarr = list(tempQ)\n",
    "\n",
    "    LeadFile[Q] = LeadFile[Qarr].sum(axis=1).round() \n",
    "    BC = list(LeadFile['RespID'][LeadFile[Q] == 0])\n",
    "    Info.loc[Info['QID'] == Q, 'Blank ids'] = str(BC)\n",
    "    \n",
    "    GrddfInfDum = GrddfInf.loc[GrddfInf['Base Condition'].notnull()]\n",
    "    if len(GrddfInfDum) > 0:\n",
    "        new = GrddfInfDum['Base Condition'].str.split(\"=\", n = 1, expand = True)\n",
    "        GrddfInfDum[\"QIDdum\"]= new[0].str.strip()\n",
    "        GrddfInfDum[\"Conddum\"]= new[1].str.strip()\n",
    "        GrddfInfDum.drop_duplicates(subset =\"QID\", inplace = True)                \n",
    "        BSC = list(LeadFile['RespID'][(LeadFile[GrddfInfDum['QIDdum'].item()] \\\n",
    "                                       == int(GrddfInfDum['Conddum'].item())) & (LeadFile[Q] == 0)])\n",
    "        Info.loc[Info['QID'] == Q, 'Base check'] = str(BSC) \n",
    "\n",
    "    LeadFile[Q] = LeadFile[Qarr].count(axis=1) \n",
    "    BC = list(LeadFile['RespID'][(LeadFile[Q] != len(Qarr)) & (LeadFile[Q] > 0)])\n",
    "    Info.loc[Info['QID'] == Q, 'Missing options'] = str(BC)\n",
    "\n",
    "    \n",
    "\n",
    "# print(LeadFile)\n",
    "# print(\"\\n\")\n",
    "# print(Info[['QID','Type','Blank ids','Range Check','Missing options']])\n",
    "# print(\"\\n\")\n",
    "dummyinfo = Info[['QID','Type','Blank ids','Base check','Range Check','Missing options']]\n",
    "dummyinfo.drop_duplicates(subset =\"QID\", inplace = True) \n",
    "print(dummyinfo)"
   ]
  },
  {
   "cell_type": "code",
   "execution_count": null,
   "metadata": {
    "collapsed": true
   },
   "outputs": [],
   "source": [
    "#Requirements : \n",
    "#check in grid/Multi if all are answered - Missing options column created\n",
    "#base condition check\n",
    "#answer option masking"
   ]
  },
  {
   "cell_type": "code",
   "execution_count": null,
   "metadata": {
    "collapsed": true
   },
   "outputs": [],
   "source": []
  }
 ],
 "metadata": {
  "kernelspec": {
   "display_name": "Python 3",
   "language": "python",
   "name": "python3"
  },
  "language_info": {
   "codemirror_mode": {
    "name": "ipython",
    "version": 3
   },
   "file_extension": ".py",
   "mimetype": "text/x-python",
   "name": "python",
   "nbconvert_exporter": "python",
   "pygments_lexer": "ipython3",
   "version": "3.6.3"
  }
 },
 "nbformat": 4,
 "nbformat_minor": 2
}
