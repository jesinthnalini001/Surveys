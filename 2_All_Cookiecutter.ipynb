{
 "cells": [
  {
   "cell_type": "code",
   "execution_count": 1,
   "metadata": {},
   "outputs": [],
   "source": [
    "#Import files\n",
    "import datetime\n",
    "import pandas as pd\n",
    "from calendar import monthrange\n",
    "import numpy as np\n",
    "from pandas.tseries.offsets import MonthEnd\n",
    "import csv\n",
    "import os\n",
    "import warnings; warnings.filterwarnings('ignore')\n",
    "import pantab\n",
    "from tableauhyperapi import TableName\n",
    "from glob import glob\n",
    "import sqlite3\n",
    "import pyodbc\n",
    "import sqlalchemy as sal\n",
    "from sqlalchemy import create_engine"
   ]
  },
  {
   "cell_type": "code",
   "execution_count": 2,
   "metadata": {},
   "outputs": [],
   "source": [
    "#Path\n",
    "os.chdir('D:\\\\Survey Data\\\\Facebook')"
   ]
  },
  {
   "cell_type": "code",
   "execution_count": 3,
   "metadata": {},
   "outputs": [],
   "source": [
    "All_QH = pd.read_csv(\"1_CookieCutter\\\\Data\\\\All_QH.csv\",encoding='cp1252')"
   ]
  },
  {
   "cell_type": "code",
   "execution_count": 4,
   "metadata": {},
   "outputs": [],
   "source": [
    "All_Code = pd.read_csv(\"1_CookieCutter\\\\Data\\\\All_DataNumbers.csv\",encoding='cp1252')"
   ]
  },
  {
   "cell_type": "code",
   "execution_count": 5,
   "metadata": {},
   "outputs": [],
   "source": [
    "All_Label = pd.read_csv(\"1_CookieCutter\\\\Data\\\\All_DataLabels.csv\",encoding='cp1252')"
   ]
  },
  {
   "cell_type": "markdown",
   "metadata": {},
   "source": [
    "# Single to Multi function"
   ]
  },
  {
   "cell_type": "code",
   "execution_count": 6,
   "metadata": {},
   "outputs": [],
   "source": [
    "def SingletoMulti(singleqid,multiqid,text,code):\n",
    "    All_Code[multiqid] = np.where((All_Code[singleqid]==code),1,0)\n",
    "    All_Label[multiqid] = np.where((All_Code[singleqid]==code),text,0)"
   ]
  },
  {
   "cell_type": "markdown",
   "metadata": {},
   "source": [
    "# Concept A"
   ]
  },
  {
   "cell_type": "code",
   "execution_count": 7,
   "metadata": {},
   "outputs": [],
   "source": [
    "SingletoMulti('BRAND_ATTRIBUTION_Q10_Lr1','Q10_1_ConceptA','Facebook',1)\n",
    "SingletoMulti('BRAND_ATTRIBUTION_Q10_Lr1','Q10_2_ConceptA','Google',2)\n",
    "SingletoMulti('BRAND_ATTRIBUTION_Q10_Lr1','Q10_3_ConceptA','Amazon',3)\n",
    "SingletoMulti('BRAND_ATTRIBUTION_Q10_Lr1','Q10_4_ConceptA','Yahoo!',4)\n",
    "SingletoMulti('BRAND_ATTRIBUTION_Q10_Lr1','Q10_5_ConceptA','Twitter',5)\n",
    "SingletoMulti('BRAND_ATTRIBUTION_Q10_Lr1','Q10_6_ConceptA','LinkedIn',6)\n",
    "SingletoMulti('BRAND_ATTRIBUTION_Q10_Lr1','Q10_7_ConceptA','TikTok',7)\n",
    "SingletoMulti('BRAND_ATTRIBUTION_Q10_Lr1','Q10_8_ConceptA','Pinterest',8)"
   ]
  },
  {
   "cell_type": "code",
   "execution_count": 8,
   "metadata": {},
   "outputs": [],
   "source": [
    "Sec1 = ['R14r1','R14r2','R14r3','R14r4','R14r5','R14r6','R14r7','R14r8','R14r9','R14r98','R14r99','PRE_FAVORABILITY_Q0r1','PRE_FAVORABILITY_Q0r2','PRE_FAVORABILITY_Q0r3','PRE_FAVORABILITY_Q0r4','LIKEABILITY_Q1_Lr1','ACTION_Q4_Lr1r1','ACTION_Q4_Lr1r2','ACTION_Q4_Lr1r3','ACTION_Q4_Lr1r4','ACTION_Q4_Lr1r5','ACTION_Q4_Lr1r6','ACTION_Q4_Lr1r7','CLARITY_Q5_Lr1','RELEVANCE_Q6_Lr1','DIFFERENTIATION_Q7_Lr1','EMOTIONS_Q9_Lr1r1','EMOTIONS_Q9_Lr1r2','EMOTIONS_Q9_Lr1r3','EMOTIONS_Q9_Lr1r4','EMOTIONS_Q9_Lr1r5','EMOTIONS_Q9_Lr1r6','EMOTIONS_Q9_Lr1r7','EMOTIONS_Q9_Lr1r8','EMOTIONS_Q9_Lr1r9','EMOTIONS_Q9_Lr1r10','EMOTIONS_Q9_Lr1r11','EMOTIONS_Q9_Lr1r12','EMOTIONS_Q9_Lr1r13','EMOTIONS_Q9_Lr1r14','EMOTIONS_Q9_Lr1r15','EMOTIONS_Q9_Lr1r16','EMOTIONS_Q9_Lr1r17','EMOTIONS_Q9_Lr1r18','IMPACT_Q12_Lr1r1','IMPACT_Q12_Lr1r2','IMPACT_Q12_Lr1r3','IMPACT_Q12_Lr1r4','POST_FAVORABILITY_Q13_Lr1r1','POST_FAVORABILITY_Q13_Lr1r2','POST_FAVORABILITY_Q13_Lr1r3','POST_FAVORABILITY_Q13_Lr1r4','FIT_Q14_Lr1r1','FIT_Q14_Lr1r2','FIT_Q14_Lr1r3','FIT_Q14_Lr1r4','Q10_1_ConceptA','Q10_2_ConceptA','Q10_3_ConceptA','Q10_4_ConceptA','Q10_5_ConceptA','Q10_6_ConceptA','Q10_7_ConceptA','Q10_8_ConceptA','BELIEVABILITY_Q8_Lr1']\n",
    "colms = Sec1\n",
    "\n",
    "df_Label = pd.melt(All_Label, id_vars =['record'], value_vars = colms,var_name ='Question ID', value_name ='Text Responses')\n",
    "df_Code = pd.melt(All_Code, id_vars =['record'], value_vars = colms,var_name ='Question ID', value_name ='Numeric Responses')"
   ]
  },
  {
   "cell_type": "code",
   "execution_count": 9,
   "metadata": {},
   "outputs": [],
   "source": [
    "All_QH = pd.read_csv(\"1_CookieCutter\\\\Data\\\\All_QH.csv\",encoding='cp1252')\n",
    "\n",
    "inner_join_df = df_Label.merge(df_Code, how=\"inner\", on=['record','Question ID'])\n",
    "output_df = inner_join_df.merge(All_QH, how=\"inner\", on=['Question ID'])"
   ]
  },
  {
   "cell_type": "code",
   "execution_count": 10,
   "metadata": {},
   "outputs": [],
   "source": [
    "bool_series_1 = pd.notnull(output_df['Numeric Responses'])\n",
    "bool_series_2 = pd.notnull(output_df['Text Responses'])\n",
    "\n",
    "# displayed data only with team = NaN\n",
    "output_df = output_df[bool_series_1 | bool_series_2]"
   ]
  },
  {
   "cell_type": "code",
   "execution_count": 11,
   "metadata": {},
   "outputs": [],
   "source": [
    "cond_1 = ((output_df['QType']=='Check all') & (output_df['Numeric Responses']==0))\n",
    "output_df = output_df[~cond_1]"
   ]
  },
  {
   "cell_type": "code",
   "execution_count": 12,
   "metadata": {},
   "outputs": [],
   "source": [
    "output_df = output_df.replace(to_replace =['Others, Please specify','Others (Please Specify)'],value =\"Others\")"
   ]
  },
  {
   "cell_type": "markdown",
   "metadata": {},
   "source": [
    "# To SQL Database"
   ]
  },
  {
   "cell_type": "code",
   "execution_count": 13,
   "metadata": {},
   "outputs": [],
   "source": [
    "engine = sal.create_engine('mssql+pyodbc://BASRV10\\SQLEXPRESS/CookieCutter?driver=SQL Server?Trusted_Connection=yes')\n",
    "# establishing the connection to the databse using engine as an interface\n",
    "conn = engine.connect()"
   ]
  },
  {
   "cell_type": "code",
   "execution_count": 14,
   "metadata": {},
   "outputs": [],
   "source": [
    "output_df.to_sql('All_w1', con=engine, if_exists='append',index=False)"
   ]
  }
 ],
 "metadata": {
  "kernelspec": {
   "display_name": "Python 3",
   "language": "python",
   "name": "python3"
  },
  "language_info": {
   "codemirror_mode": {
    "name": "ipython",
    "version": 3
   },
   "file_extension": ".py",
   "mimetype": "text/x-python",
   "name": "python",
   "nbconvert_exporter": "python",
   "pygments_lexer": "ipython3",
   "version": "3.8.3"
  }
 },
 "nbformat": 4,
 "nbformat_minor": 4
}
